{
  "cells": [
    {
      "cell_type": "markdown",
      "metadata": {
        "id": "view-in-github",
        "colab_type": "text"
      },
      "source": [
        "<a href=\"https://colab.research.google.com/github/MicahMeadows/CSC-781-GoogleColab/blob/main/Gradient_Diabetes.ipynb\" target=\"_parent\"><img src=\"https://colab.research.google.com/assets/colab-badge.svg\" alt=\"Open In Colab\"/></a>"
      ]
    },
    {
      "cell_type": "markdown",
      "source": [
        "#### Here we import the packages that we are going to need for this assignment\n",
        "- we are using numpy as it gives up array helpers that are very performant.\n",
        "- we are using pyplot in order to vizualize our plots\n",
        "- we are using the sklearn data set for the diabetes dataset"
      ],
      "metadata": {
        "id": "v-bJefP_482x"
      }
    },
    {
      "cell_type": "code",
      "execution_count": 1,
      "metadata": {
        "id": "--7eR6Caqb_F"
      },
      "outputs": [],
      "source": [
        "import numpy as np\n",
        "import matplotlib.pyplot as plt\n",
        "import sklearn.datasets as sk"
      ]
    },
    {
      "cell_type": "markdown",
      "source": [
        "#### Here we will import the data and fix it so our needs\n",
        "We will be using the diabetes data set which has several features and then labels the blood sugar level for a person.\n",
        "Based on running tests I have chosen to use the Body Mass Index or BMI feature in order to run these results as it has better correlation than most of the other features."
      ],
      "metadata": {
        "id": "VU11-5815JCv"
      }
    },
    {
      "cell_type": "code",
      "source": [
        "# diabetes data\n",
        "data = sk.load_diabetes()\n",
        "\n",
        "samples = data.data[:, 2]\n",
        "labels = data.target\n",
        "\n",
        "fixed_samples = np.array((samples, labels)).T\n",
        "np.random.shuffle(fixed_samples)\n",
        "\n",
        "np.random.shuffle(fixed_samples)\n",
        "\n",
        "num_samples_total = len(fixed_samples)\n",
        "\n",
        "def split_fixed_samples(fixed_samples):\n",
        "  feature_objects = fixed_samples[: , 0:1].flatten()\n",
        "  label_objects = fixed_samples[: , -1]\n",
        "  return feature_objects, label_objects\n",
        "\n",
        "top_train_idx = int(num_samples_total * .70)\n",
        "top_dev_idx = int(num_samples_total * .85)\n",
        "\n",
        "train_bmis, train_bpls = split_fixed_samples(fixed_samples[:top_train_idx])\n",
        "dev_bmis, dev_bpls = split_fixed_samples(fixed_samples[top_train_idx:top_dev_idx])\n",
        "test_bmis, test_bpls = split_fixed_samples(fixed_samples[top_dev_idx:])"
      ],
      "metadata": {
        "id": "TztcfDcJen-L"
      },
      "execution_count": 2,
      "outputs": []
    },
    {
      "cell_type": "markdown",
      "source": [
        "#### Visualize data\n",
        "Here we visualize the data on a scatter plot\n",
        "- green is the training data which represents 85% of our data\n",
        "- red is the development data for running dynamic changes to our model\n",
        "- blue is the testing data for after our results"
      ],
      "metadata": {
        "id": "wo5nZoWj5Yic"
      }
    },
    {
      "cell_type": "code",
      "execution_count": 3,
      "metadata": {
        "colab": {
          "base_uri": "https://localhost:8080/",
          "height": 282
        },
        "id": "DfKG7FuwvrSi",
        "outputId": "85d5203d-c498-40c3-9c6d-7499bc6dfca4"
      },
      "outputs": [
        {
          "output_type": "execute_result",
          "data": {
            "text/plain": [
              "<matplotlib.legend.Legend at 0x7fb820fb7d60>"
            ]
          },
          "metadata": {},
          "execution_count": 3
        },
        {
          "output_type": "display_data",
          "data": {
            "text/plain": [
              "<Figure size 432x288 with 1 Axes>"
            ],
            "image/png": "[encoded data removed]"
          },
          "metadata": {
            "needs_background": "light"
          }
        }
      ],
      "source": [
        "plt.scatter(train_bmis, train_bpls, color='g')\n",
        "plt.scatter(dev_bmis, dev_bpls, color='r')\n",
        "plt.scatter(test_bmis, test_bpls, color='b')\n",
        "plt.legend(('train', 'dev', 'test'))"
      ]
    },
    {
      "cell_type": "markdown",
      "source": [
        "#### Build our model methods\n",
        "In this section we define the core of our univariant linear regression model. This is composed of the three main parts.\n",
        "- Univariant Linear Regression method: This method computes the linear regression.\n",
        "- Cost Computation: We can score our model using this method to determine if we need to go further.\n",
        "- Updating the theta: updating the theta is important as it allows us to score better linear regression lines based on the cost function."
      ],
      "metadata": {
        "id": "soyY1gkc5mgn"
      }
    },
    {
      "cell_type": "code",
      "source": [
        "# linear regression model\n",
        "def univariant_linear_regression(theta, input):\n",
        "  pred = theta[0] + (theta[1] * input)\n",
        "  return pred\n",
        "\n",
        "# cost function\n",
        "def compute_cost(y_pred, y_true):\n",
        "  m = len(y_true)\n",
        "  J = 1/(2*m) * (np.sum(y_pred - y_true) ** 2) # MSE\n",
        "  # J = (1/2m) * (np.abs(y_pred - y_true)) # MAE\n",
        "  return J\n",
        "\n",
        "def update_theta(theta, x, y_true, y_pred, learning_rate):\n",
        "  m = len(y_true)\n",
        "  theta[0] = theta[0] - (learning_rate * (1/m) * np.sum(y_pred - y_true))\n",
        "  theta[1] = theta[1] - (learning_rate * (1/m) * np.sum((y_pred - y_true) * x))\n",
        "  return theta"
      ],
      "metadata": {
        "id": "LSTRL31cxC5T"
      },
      "execution_count": 4,
      "outputs": []
    },
    {
      "cell_type": "markdown",
      "source": [
        "#### Train the data\n",
        "In this section we train our theta value by running 5000 linear regressions in order to find the most optimal data for our set.\n",
        "We are using a .005 learning rate as I found this to be giving us a very low cost by the end of the training data."
      ],
      "metadata": {
        "id": "hwwfPI166APB"
      }
    },
    {
      "cell_type": "code",
      "source": [
        "theta = [0.0, 0.0]\n",
        "lr = .005\n",
        "\n",
        "k = 0\n",
        "for i in range(5000):\n",
        "  pred = univariant_linear_regression(theta, train_bmis)\n",
        "  cost = compute_cost(pred, train_bpls)\n",
        "  theta = update_theta(theta, train_bmis, train_bpls, pred, lr)\n",
        "\n",
        "plt.scatter(train_bmis, train_bpls, color='r')\n",
        "print(f'cost: {cost}')\n",
        "print(f'theta: {theta}')"
      ],
      "metadata": {
        "colab": {
          "base_uri": "https://localhost:8080/",
          "height": 300
        },
        "id": "Nn5fTogvZIJV",
        "outputId": "56c041fd-7b7b-4587-bec7-9418eae8d330"
      },
      "execution_count": 11,
      "outputs": [
        {
          "output_type": "stream",
          "name": "stdout",
          "text": [
            "cost: 0.00045880516899343715\n",
            "theta: [153.2518754051021, 52.14739703124688]\n"
          ]
        },
        {
          "output_type": "display_data",
          "data": {
            "text/plain": [
              "<Figure size 432x288 with 1 Axes>"
            ],
            "image/png": "[encoded data removed]"
          },
          "metadata": {
            "needs_background": "light"
          }
        }
      ]
    },
    {
      "cell_type": "markdown",
      "source": [
        "#### Running tests on our trained data\n",
        "After we have our trained data we can run tests in order to determine predictions for new data.\n",
        "\n",
        "Unfortunately it seems that by using the BMI we do not get very accurate prediction results when changing into a new data set. The cost during the training data set was only .0004 however swapping it to the testing data set we scored 288 which is very poor for this result. In the future we can make an algorithm that combines multiple features into a more accurate feature in order to get a better result."
      ],
      "metadata": {
        "id": "qbZR4lrV6KD_"
      }
    },
    {
      "cell_type": "code",
      "source": [
        "test_pred = univariant_linear_regression(theta, test_bmis)\n",
        "print(test_pred)\n",
        "\n",
        "test_cost = compute_cost(test_pred, test_bpls)\n",
        "print(f'testing cost: {test_cost}')"
      ],
      "metadata": {
        "colab": {
          "base_uri": "https://localhost:8080/"
        },
        "id": "A4rqilee4UNP",
        "outputId": "9952995b-cfc4-4bed-d8e7-0230de964e49"
      },
      "execution_count": 13,
      "outputs": [
        {
          "output_type": "stream",
          "name": "stdout",
          "text": [
            "[152.98445614 153.99614784 152.02896954 152.87204596 155.96332613\n",
            " 158.99840122 151.63553389 152.81584086 158.09911971 152.70343067\n",
            " 154.3895835  154.10855803 153.4340969  156.46917198 152.92825105\n",
            " 152.64722558 150.34281672 156.3005567  151.97276445 152.70343067\n",
            " 153.20927652 149.83697087 148.54425371 151.57932879 152.4224052\n",
            " 154.72681406 153.54650709 156.41296689 151.35450841 153.15307143\n",
            " 154.50199369 149.83697087 151.63553389 149.78076578 158.71737575\n",
            " 150.90486766 153.77132746 153.3778918  156.18814651 149.44353521\n",
            " 152.14137973 153.77132746 159.67286235 152.19758483 156.63778726\n",
            " 151.63553389 157.87429934 151.74794407 154.44578859 149.66835559\n",
            " 151.69173898 149.6121505  153.77132746 157.87429934 152.87204596\n",
            " 154.16476312 152.19758483 149.44353521 151.91655936 151.57932879\n",
            " 150.00558616 153.32168671 155.288865   153.60271218 160.40352857\n",
            " 154.27717331 149.38733012]\n",
            "testing cost: 288.02995363391045\n"
          ]
        }
      ]
    }
  ],
  "metadata": {
    "colab": {
      "provenance": [],
      "authorship_tag": "ABX9TyMks/lc4QYCy/aTx1CMEiUu",
      "include_colab_link": true
    },
    "kernelspec": {
      "display_name": "Python 3",
      "name": "python3"
    },
    "language_info": {
      "name": "python"
    }
  },
  "nbformat": 4,
  "nbformat_minor": 0
}