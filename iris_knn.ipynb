{
  "nbformat": 4,
  "nbformat_minor": 0,
  "metadata": {
    "colab": {
      "provenance": [],
      "include_colab_link": true
    },
    "kernelspec": {
      "name": "python3",
      "display_name": "Python 3"
    },
    "language_info": {
      "name": "python"
    }
  },
  "cells": [
    {
      "cell_type": "markdown",
      "metadata": {
        "id": "view-in-github",
        "colab_type": "text"
      },
      "source": [
        "<a href=\"https://colab.research.google.com/github/MicahMeadows/CSC-781-GoogleColab/blob/main/iris_knn.ipynb\" target=\"_parent\"><img src=\"https://colab.research.google.com/assets/colab-badge.svg\" alt=\"Open In Colab\"/></a>"
      ]
    },
    {
      "cell_type": "code",
      "execution_count": 1,
      "metadata": {
        "id": "WM4T7XckNBUH"
      },
      "outputs": [],
      "source": [
        "from sklearn.datasets import load_iris"
      ]
    },
    {
      "cell_type": "markdown",
      "source": [
        "#### Load dataset"
      ],
      "metadata": {
        "id": "qcn4TdsBXDia"
      }
    },
    {
      "cell_type": "code",
      "source": [
        "irisData = load_iris()\n",
        "\n",
        "source = irisData.data\n",
        "target = irisData.target\n",
        "\n",
        "print(source[:5])\n",
        "print(target[:5])"
      ],
      "metadata": {
        "colab": {
          "base_uri": "https://localhost:8080/"
        },
        "id": "qz_K0cO7XE8K",
        "outputId": "7b2c29c0-b0cb-4797-9460-47fef4807fc5"
      },
      "execution_count": 2,
      "outputs": [
        {
          "output_type": "stream",
          "name": "stdout",
          "text": [
            "[[5.1 3.5 1.4 0.2]\n",
            " [4.9 3.  1.4 0.2]\n",
            " [4.7 3.2 1.3 0.2]\n",
            " [4.6 3.1 1.5 0.2]\n",
            " [5.  3.6 1.4 0.2]]\n",
            "[0 0 0 0 0]\n"
          ]
        }
      ]
    },
    {
      "cell_type": "markdown",
      "source": [
        "Split dataset"
      ],
      "metadata": {
        "id": "QY0Vd3_mX8AU"
      }
    },
    {
      "cell_type": "code",
      "source": [
        "import numpy as np\n",
        "\n",
        "# combine target with features\n",
        "target = np.expand_dims(target, 1)\n",
        "data = np.append(source, target, 1)\n",
        "\n",
        "# shuffle data\n",
        "np.random.shuffle(data)\n",
        "\n",
        "# split data\n",
        "num_samples = len(data)\n",
        "train_samples_top_idx = int(num_samples * .6)\n",
        "dev_samples_max_idx = int(num_samples * .8)\n",
        "train_samples = data[:train_samples_top_idx]\n",
        "dev_samples = data[train_samples_top_idx:dev_samples_max_idx]\n",
        "test_samples = data[dev_samples_max_idx:]"
      ],
      "metadata": {
        "id": "ekz7KTIRX-HO"
      },
      "execution_count": 3,
      "outputs": []
    },
    {
      "cell_type": "markdown",
      "source": [
        "#### Define methods to extract features and labels from combined data"
      ],
      "metadata": {
        "id": "Y-nemxo3hv82"
      }
    },
    {
      "cell_type": "code",
      "source": [
        "def get_features(data):\n",
        "  return data[:, :-1]\n",
        "\n",
        "def get_labels(data):\n",
        "  return data[:, -1]"
      ],
      "metadata": {
        "id": "0Uua7S72g9oA"
      },
      "execution_count": 4,
      "outputs": []
    },
    {
      "cell_type": "code",
      "source": [
        "train_features = get_features(train_samples)\n",
        "train_labels = get_labels(train_samples)\n",
        "\n",
        "dev_features = get_features(dev_samples)\n",
        "dev_labels = get_labels(dev_samples)\n",
        "\n",
        "test_features = get_features(test_samples)\n",
        "test_labels = get_labels(test_samples)"
      ],
      "metadata": {
        "id": "IxY6QGzChbBL"
      },
      "execution_count": 5,
      "outputs": []
    },
    {
      "cell_type": "markdown",
      "source": [
        "#### Euclidean distance"
      ],
      "metadata": {
        "id": "v1qQyoDqh4rT"
      }
    },
    {
      "cell_type": "code",
      "source": [
        "def euclidean_distance(row1, row2):\n",
        "  distance = 0.0\n",
        "  for i in range(len(row1)-1):\n",
        "    distance += (row1[i] - row2[i]) ** 2\n",
        "  return np.sqrt(distance)"
      ],
      "metadata": {
        "id": "nWN2iM70h6IN"
      },
      "execution_count": 6,
      "outputs": []
    },
    {
      "cell_type": "markdown",
      "source": [
        "#### Select K Neighbors"
      ],
      "metadata": {
        "id": "NKq9SYzxlsXU"
      }
    },
    {
      "cell_type": "code",
      "source": [
        "def get_neighbors(samples: list, labels, test_row, num_neighbors):\n",
        "  neighbors = []\n",
        "\n",
        "  # get distances of all samples\n",
        "  for i in range(len(samples)):\n",
        "    row = samples[i]\n",
        "    label = labels[i]\n",
        "    dist = euclidean_distance(row, test_row)\n",
        "    neighbors.append((row, label, dist))\n",
        "  \n",
        "  # sort closest neighbors\n",
        "  neighbors.sort(key=lambda i: i[2])\n",
        "\n",
        "  # get closest 'num_neighbors'\n",
        "  output_neighbors = []\n",
        "  output_labels = []\n",
        "  output_distances = []\n",
        "\n",
        "  k_neighbors = neighbors[:num_neighbors]\n",
        "\n",
        "  for neighbor in k_neighbors:\n",
        "    output_neighbors.append(neighbor[0])\n",
        "    output_labels.append(neighbor[1])\n",
        "    output_distances.append(neighbor[2])\n",
        "\n",
        "  return output_neighbors, output_labels, output_distances"
      ],
      "metadata": {
        "id": "OJ3YGIQ5iU1x"
      },
      "execution_count": 7,
      "outputs": []
    },
    {
      "cell_type": "markdown",
      "source": [
        "#### Make Prediction"
      ],
      "metadata": {
        "id": "LLDiAO4Pl2CU"
      }
    },
    {
      "cell_type": "code",
      "source": [
        "def prediction_classification(test_samples, test_labels, test_sample, num_neighbors):\n",
        "  close_samples, close_labels, close_distances = get_neighbors(test_samples, test_labels, test_sample, num_neighbors)\n",
        "  label_cnt = np.bincount(close_labels)\n",
        "  prediction = np.argmax(label_cnt)\n",
        "  return prediction"
      ],
      "metadata": {
        "id": "MhAbj-cgk66H"
      },
      "execution_count": 8,
      "outputs": []
    },
    {
      "cell_type": "code",
      "source": [
        "k = 4\n",
        "pred_labels = []\n",
        "for i in range(len(dev_samples)):\n",
        "  result = prediction_classification(train_samples, train_labels, dev_samples[i], k)\n",
        "  pred_labels.append(result)"
      ],
      "metadata": {
        "id": "1GcGb3pDpWoR"
      },
      "execution_count": 9,
      "outputs": []
    },
    {
      "cell_type": "code",
      "source": [
        "from sklearn.metrics import accuracy_score\n",
        "acc = accuracy_score(dev_labels, pred_labels)\n",
        "print(acc)"
      ],
      "metadata": {
        "colab": {
          "base_uri": "https://localhost:8080/"
        },
        "id": "6v6NDAVnpii0",
        "outputId": "9440896e-19e6-495c-c518-50c6f7cec8a7"
      },
      "execution_count": 10,
      "outputs": [
        {
          "output_type": "stream",
          "name": "stdout",
          "text": [
            "0.9333333333333333\n"
          ]
        }
      ]
    },
    {
      "cell_type": "markdown",
      "source": [
        "#### Test All K Values"
      ],
      "metadata": {
        "id": "PI18Wv0Qr4R7"
      }
    },
    {
      "cell_type": "code",
      "source": [
        "k_list = list(range(1, 80, 3))\n",
        "performance = []\n",
        "for k in k_list:\n",
        "  pred_labels = []\n",
        "  for i in range(len(dev_samples)):\n",
        "    result = prediction_classification(train_samples, train_labels, dev_samples[i], k)\n",
        "    pred_labels.append(result)\n",
        "  accuracy = accuracy_score(dev_labels, pred_labels)\n",
        "  performance.append(accuracy)"
      ],
      "metadata": {
        "id": "E5ilnRZrr5rr"
      },
      "execution_count": 11,
      "outputs": []
    },
    {
      "cell_type": "code",
      "source": [
        "import matplotlib.pyplot as plt\n",
        "\n",
        "plt.figure(figsize=(20,6))\n",
        "plt.plot(k_list, performance)\n",
        "plt.plot(k_list, performance, 'o')\n",
        "plt.xticks(k_list)\n",
        "plt.xlabel(\"K-Values\")\n",
        "plt.ylabel(\"Accuracy\")\n",
        "plt.title(\"Performance\")"
      ],
      "metadata": {
        "colab": {
          "base_uri": "https://localhost:8080/",
          "height": 422
        },
        "id": "YPEOjFXBsetv",
        "outputId": "50e3d317-9054-413e-fb51-ab876b093276"
      },
      "execution_count": 12,
      "outputs": [
        {
          "output_type": "execute_result",
          "data": {
            "text/plain": [
              "Text(0.5, 1.0, 'Performance')"
            ]
          },
          "metadata": {},
          "execution_count": 12
        },
        {
          "output_type": "display_data",
          "data": {
            "text/plain": [
              "<Figure size 1440x432 with 1 Axes>"
            ],
            "image/png": "[encoded data removed]"
          },
          "metadata": {
            "needs_background": "light"
          }
        }
      ]
    },
    {
      "cell_type": "code",
      "source": [
        "k = 7\n",
        "pred_labels = []\n",
        "for sample in test_samples:\n",
        "  pred = prediction_classification(train_samples, train_labels, sample, k)\n",
        "  pred_labels.append(pred)\n",
        "accuracy = accuracy_score(test_labels, pred_labels)\n",
        "print(accuracy)"
      ],
      "metadata": {
        "colab": {
          "base_uri": "https://localhost:8080/"
        },
        "id": "mUS4qmS3tdlM",
        "outputId": "c573d690-7090-4f1e-d32f-eeb4c6c623bc"
      },
      "execution_count": 14,
      "outputs": [
        {
          "output_type": "stream",
          "name": "stdout",
          "text": [
            "0.9333333333333333\n"
          ]
        }
      ]
    }
  ]
}