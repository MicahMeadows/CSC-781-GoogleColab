{
  "nbformat": 4,
  "nbformat_minor": 0,
  "metadata": {
    "colab": {
      "provenance": [],
      "authorship_tag": "ABX9TyO41WsHTozd29OHolVz/T7M",
      "include_colab_link": true
    },
    "kernelspec": {
      "name": "python3",
      "display_name": "Python 3"
    },
    "language_info": {
      "name": "python"
    }
  },
  "cells": [
    {
      "cell_type": "markdown",
      "metadata": {
        "id": "view-in-github",
        "colab_type": "text"
      },
      "source": [
        "<a href=\"https://colab.research.google.com/github/MicahMeadows/CSC-781-GoogleColab/blob/main/knn_digits.ipynb\" target=\"_parent\"><img src=\"https://colab.research.google.com/assets/colab-badge.svg\" alt=\"Open In Colab\"/></a>"
      ]
    },
    {
      "cell_type": "markdown",
      "source": [
        "#### KNN Algoirthm Report\n",
        "The KNN algorithm is a simple way to classify or predict something based on what similar things are. It looks at the closest neighbors (previous examples or data) and makes a decision based on what the majority of them are. This report will explain more about how the KNN algorithm works and how it can be used."
      ],
      "metadata": {
        "id": "x01pIiQ0VhRk"
      }
    },
    {
      "cell_type": "markdown",
      "source": [
        "#### Import Load Digits\n",
        "The SK learn dataset contains 1797 individually drawn images of digits. \n",
        "\n",
        "These digits are represented by 8x8 bitmap images of hand drawn digits.\n",
        "\n",
        "By calling the ```load_digits()``` method in the ```sklearn.datasets``` we can access these samples. In order to access the samples we can access the ```.data[i]``` attribute and to get the associated label we can access the ```.target[i]``` attribute"
      ],
      "metadata": {
        "id": "HFxunIZtwSm6"
      }
    },
    {
      "cell_type": "code",
      "execution_count": 1,
      "metadata": {
        "colab": {
          "base_uri": "https://localhost:8080/",
          "height": 0
        },
        "id": "9wJRm5BTv_qo",
        "outputId": "bf165ac4-5fc4-477e-ea99-4863b9873df1"
      },
      "outputs": [
        {
          "output_type": "stream",
          "name": "stdout",
          "text": [
            "[[ 0.  0.  5. 13.  9.  1.  0.  0.  0.  0. 13. 15. 10. 15.  5.  0.  0.  3.\n",
            "  15.  2.  0. 11.  8.  0.  0.  4. 12.  0.  0.  8.  8.  0.  0.  5.  8.  0.\n",
            "   0.  9.  8.  0.  0.  4. 11.  0.  1. 12.  7.  0.  0.  2. 14.  5. 10. 12.\n",
            "   0.  0.  0.  0.  6. 13. 10.  0.  0.  0.]\n",
            " [ 0.  0.  0. 12. 13.  5.  0.  0.  0.  0.  0. 11. 16.  9.  0.  0.  0.  0.\n",
            "   3. 15. 16.  6.  0.  0.  0.  7. 15. 16. 16.  2.  0.  0.  0.  0.  1. 16.\n",
            "  16.  3.  0.  0.  0.  0.  1. 16. 16.  6.  0.  0.  0.  0.  1. 16. 16.  6.\n",
            "   0.  0.  0.  0.  0. 11. 16. 10.  0.  0.]]\n",
            "[0 1]\n"
          ]
        }
      ],
      "source": [
        "from sklearn.datasets import load_digits\n",
        "\n",
        "digits_data = load_digits()\n",
        "\n",
        "samples = digits_data.data\n",
        "labels = digits_data.target\n",
        "\n",
        "print(samples[:2])\n",
        "print(labels[:2])"
      ]
    },
    {
      "cell_type": "markdown",
      "source": [
        "#### Import Numpy\n",
        "\n",
        "Numpy library contains many helpful mathematical operations that we can use to organize, split, randomize, and normalize our data variables. We import the package here to use these methods."
      ],
      "metadata": {
        "id": "shG-qjbtydWl"
      }
    },
    {
      "cell_type": "code",
      "source": [
        "import numpy as np"
      ],
      "metadata": {
        "id": "m9SjIIhoybip"
      },
      "execution_count": 2,
      "outputs": []
    },
    {
      "cell_type": "markdown",
      "source": [
        "#### Combine sample data and label\n",
        "During shuffling we need to be able to match the label to the initial data so the labels need shuffled along side the feature data"
      ],
      "metadata": {
        "id": "n_I1964byfDg"
      }
    },
    {
      "cell_type": "code",
      "source": [
        "labels = np.expand_dims(labels, 1)\n",
        "fixed_samples = np.append(samples, labels, 1)"
      ],
      "metadata": {
        "id": "vvFxXbp0xZr0"
      },
      "execution_count": 3,
      "outputs": []
    },
    {
      "cell_type": "markdown",
      "source": [
        "#### Shuffle The Data\n",
        "\n",
        "The data is shuffled as it is by default not random. By shuffling it we have a better chance at having random data in the test, dev, and training data sets."
      ],
      "metadata": {
        "id": "WovN3KLXyZdq"
      }
    },
    {
      "cell_type": "code",
      "source": [
        "np.random.shuffle(fixed_samples)"
      ],
      "metadata": {
        "id": "_9rGQq5RyWdD"
      },
      "execution_count": 4,
      "outputs": []
    },
    {
      "cell_type": "markdown",
      "source": [
        "#### Extract origional samples and labels from shuffled data\n",
        "\n",
        "After we have shuffled the data, we convert it back to their origional forms retaining the index so we can match the labels to the feature data as needed."
      ],
      "metadata": {
        "id": "fgIsjIgK0LeL"
      }
    },
    {
      "cell_type": "code",
      "source": [
        "def split_fixed_samples(fixed_samples):\n",
        "  feature_objects = fixed_samples[: , :-1]\n",
        "  label_objects = fixed_samples[: , -1]\n",
        "  return feature_objects, label_objects"
      ],
      "metadata": {
        "id": "PCEaY9Ynyxev"
      },
      "execution_count": 5,
      "outputs": []
    },
    {
      "cell_type": "code",
      "source": [
        "num_samples_total = len(fixed_samples)\n",
        "\n",
        "top_train_idx = int(num_samples_total * .70)\n",
        "top_dev_idx = int(num_samples_total * .85)\n",
        "\n",
        "train_samples, train_labels = split_fixed_samples(fixed_samples[:top_train_idx])\n",
        "dev_samples, dev_labels = split_fixed_samples(fixed_samples[top_train_idx:top_dev_idx])\n",
        "test_samples, test_labels = split_fixed_samples(fixed_samples[top_dev_idx:])"
      ],
      "metadata": {
        "id": "J5ONuKoHzO7X"
      },
      "execution_count": 6,
      "outputs": []
    },
    {
      "cell_type": "markdown",
      "source": [
        "#### Euclidean distance\n",
        "\n",
        "Euclidean distance allows us to detect the distance between n-dimentional data samples."
      ],
      "metadata": {
        "id": "v1qQyoDqh4rT"
      }
    },
    {
      "cell_type": "code",
      "source": [
        "def euclidean_distance(row1, row2):\n",
        "  distance = 0.0\n",
        "  for i in range(len(row1)-1):\n",
        "    distance += (row1[i] - row2[i]) ** 2\n",
        "  return np.sqrt(distance)"
      ],
      "metadata": {
        "id": "nWN2iM70h6IN"
      },
      "execution_count": 7,
      "outputs": []
    },
    {
      "cell_type": "markdown",
      "source": [
        "#### Select K Neighbors\n",
        "This method will select our closest k neighbors which is the core idea behind K nearest neighbors. ```samples``` contains our trained samples to search through, ```labels``` contains the labels for the samples, ```test_row``` is the new sample were comparing to the trained samples, and ```num_neighbors``` is our 'k' value for KNN."
      ],
      "metadata": {
        "id": "gyyKpFqR0lJF"
      }
    },
    {
      "cell_type": "code",
      "source": [
        "def get_neighbors(samples: list, labels, test_row, num_neighbors):\n",
        "  neighbors = []\n",
        "\n",
        "  # get distances of all samples\n",
        "  for i in range(len(samples)):\n",
        "    row = samples[i]\n",
        "    label = labels[i]\n",
        "    dist = euclidean_distance(row, test_row)\n",
        "    neighbors.append((row, label, dist))\n",
        "  \n",
        "  # sort closest neighbors\n",
        "  neighbors.sort(key=lambda i: i[2])\n",
        "\n",
        "  # get closest 'num_neighbors'\n",
        "  output_neighbors = []\n",
        "  output_labels = []\n",
        "  output_distances = []\n",
        "\n",
        "  k_neighbors = neighbors[:num_neighbors]\n",
        "\n",
        "  for neighbor in k_neighbors:\n",
        "    output_neighbors.append(neighbor[0])\n",
        "    output_labels.append(neighbor[1])\n",
        "    output_distances.append(neighbor[2])\n",
        "\n",
        "  return output_neighbors, output_labels, output_distances"
      ],
      "metadata": {
        "id": "OJ3YGIQ5iU1x"
      },
      "execution_count": 8,
      "outputs": []
    },
    {
      "cell_type": "markdown",
      "source": [
        "#### Make Prediction\n",
        "\n",
        "our prediction takes in our new sample to check and returns what the Machine Learning Algorithm believes the data will be."
      ],
      "metadata": {
        "id": "7vYYcMPX02M-"
      }
    },
    {
      "cell_type": "code",
      "source": [
        "def prediction_classification(test_samples, test_labels, test_sample, num_neighbors):\n",
        "  close_samples, close_labels, close_distances = get_neighbors(test_samples, test_labels, test_sample, num_neighbors)\n",
        "  label_cnt = np.bincount(close_labels)\n",
        "  prediction = np.argmax(label_cnt)\n",
        "  return prediction"
      ],
      "metadata": {
        "id": "MhAbj-cgk66H"
      },
      "execution_count": 9,
      "outputs": []
    },
    {
      "cell_type": "code",
      "source": [
        "k = 4\n",
        "pred_labels = []\n",
        "for i in range(len(dev_samples)):\n",
        "  result = prediction_classification(train_samples, train_labels, dev_samples[i], k)\n",
        "  pred_labels.append(result)"
      ],
      "metadata": {
        "id": "1GcGb3pDpWoR"
      },
      "execution_count": 10,
      "outputs": []
    },
    {
      "cell_type": "markdown",
      "source": [
        "You can see here we were able to achieve a high accuracy with the algorithm when settings k = 4. The result was 97% accuracy"
      ],
      "metadata": {
        "id": "jQrGfC7SSw-I"
      }
    },
    {
      "cell_type": "code",
      "source": [
        "from sklearn.metrics import accuracy_score\n",
        "acc = accuracy_score(dev_labels, pred_labels)\n",
        "print(acc)"
      ],
      "metadata": {
        "colab": {
          "base_uri": "https://localhost:8080/",
          "height": 0
        },
        "id": "6v6NDAVnpii0",
        "outputId": "0e375532-b4a3-4ab5-a99b-ce1e9855d098"
      },
      "execution_count": 11,
      "outputs": [
        {
          "output_type": "stream",
          "name": "stdout",
          "text": [
            "0.9777777777777777\n"
          ]
        }
      ]
    },
    {
      "cell_type": "markdown",
      "source": [
        "#### Test All K Values\n",
        "\n",
        "We can use this in order to determine the most optimal K value for our eventual model."
      ],
      "metadata": {
        "id": "PI18Wv0Qr4R7"
      }
    },
    {
      "cell_type": "code",
      "source": [
        "k_list = list(range(1, 5, 5))\n",
        "performance = []\n",
        "for k in k_list:\n",
        "  pred_labels = []\n",
        "  for i in range(len(dev_samples)):\n",
        "    result = prediction_classification(train_samples, train_labels, dev_samples[i], k)\n",
        "    pred_labels.append(result)\n",
        "  accuracy = accuracy_score(dev_labels, pred_labels)\n",
        "  performance.append(accuracy)"
      ],
      "metadata": {
        "id": "E5ilnRZrr5rr"
      },
      "execution_count": 12,
      "outputs": []
    },
    {
      "cell_type": "markdown",
      "source": [
        "#### Plot our best K values\n",
        "by plotting our K values we can see how the algorithm performs based on the K values and we can select our best K value to use."
      ],
      "metadata": {
        "id": "w_OsuBTMB01B"
      }
    },
    {
      "cell_type": "code",
      "source": [
        "import matplotlib.pyplot as plt\n",
        "\n",
        "plt.figure(figsize=(20,6))\n",
        "plt.plot(k_list, performance)\n",
        "plt.plot(k_list, performance, 'o')\n",
        "plt.xticks(k_list)\n",
        "plt.xlabel(\"K-Values\")\n",
        "plt.ylabel(\"Accuracy\")\n",
        "plt.title(\"Performance\")"
      ],
      "metadata": {
        "colab": {
          "base_uri": "https://localhost:8080/",
          "height": 245
        },
        "id": "YPEOjFXBsetv",
        "outputId": "84067d0d-f925-4efa-fc64-55d4284ef2e1"
      },
      "execution_count": 13,
      "outputs": [
        {
          "output_type": "execute_result",
          "data": {
            "text/plain": [
              "Text(0.5, 1.0, 'Performance')"
            ]
          },
          "metadata": {},
          "execution_count": 13
        },
        {
          "output_type": "display_data",
          "data": {
            "text/plain": [
              "<Figure size 1440x432 with 1 Axes>"
            ],
            "image/png": "[encoded data removed]"
          },
          "metadata": {
            "needs_background": "light"
          }
        }
      ]
    },
    {
      "cell_type": "code",
      "source": [
        "k = 7\n",
        "pred_labels = []\n",
        "for sample in test_samples:\n",
        "  pred = prediction_classification(train_samples, train_labels, sample, k)\n",
        "  pred_labels.append(pred)\n",
        "accuracy = accuracy_score(test_labels, pred_labels)\n",
        "print(accuracy)"
      ],
      "metadata": {
        "colab": {
          "base_uri": "https://localhost:8080/",
          "height": 0
        },
        "id": "mUS4qmS3tdlM",
        "outputId": "2d4639c5-8452-4ffb-dc06-b66f4360a4e2"
      },
      "execution_count": 14,
      "outputs": [
        {
          "output_type": "stream",
          "name": "stdout",
          "text": [
            "0.9814814814814815\n"
          ]
        }
      ]
    },
    {
      "cell_type": "markdown",
      "source": [
        "#### Visualized Results\n",
        "Below is a truth table with 10 randomly selected results tested and compared to their actual values."
      ],
      "metadata": {
        "id": "5GfbORjvT94k"
      }
    },
    {
      "cell_type": "code",
      "source": [
        "k = 4\n",
        "print('TRUTH TABLE:')\n",
        "print('------------')\n",
        "for i in range(10):\n",
        "  pred = prediction_classification(train_samples, train_labels, test_samples[i], k)\n",
        "  real = int(test_labels[i])\n",
        "  print(f'{pred} | {real} -> {True if pred == real else False}')\n"
      ],
      "metadata": {
        "id": "_CIToA_qTgbL",
        "colab": {
          "base_uri": "https://localhost:8080/",
          "height": 0
        },
        "outputId": "aa382a2d-d1a9-47af-a869-579abfd726c0"
      },
      "execution_count": 19,
      "outputs": [
        {
          "output_type": "stream",
          "name": "stdout",
          "text": [
            "TRUTH TABLE:\n",
            "------------\n",
            "8 | 8 -> True\n",
            "3 | 3 -> True\n",
            "5 | 5 -> True\n",
            "2 | 2 -> True\n",
            "9 | 9 -> True\n",
            "7 | 7 -> True\n",
            "8 | 8 -> True\n",
            "3 | 3 -> True\n",
            "1 | 1 -> True\n",
            "3 | 3 -> True\n"
          ]
        }
      ]
    },
    {
      "cell_type": "code",
      "source": [],
      "metadata": {
        "id": "_yA9U167U2iJ"
      },
      "execution_count": null,
      "outputs": []
    }
  ]
}